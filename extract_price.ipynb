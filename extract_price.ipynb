{
 "cells": [
  {
   "cell_type": "code",
   "execution_count": 1,
   "metadata": {},
   "outputs": [],
   "source": [
    "import requests\n",
    "import lxml.html\n",
    "import re\n",
    "import numpy as np"
   ]
  },
  {
   "cell_type": "code",
   "execution_count": 2,
   "metadata": {},
   "outputs": [],
   "source": [
    "html = requests.get('https://itb.org.tr/UzumSalonu')\n",
    "doc = lxml.html.fromstring(html.content)"
   ]
  },
  {
   "cell_type": "code",
   "execution_count": 103,
   "metadata": {},
   "outputs": [],
   "source": [
    "tables = doc.xpath('//table[@class=\"table\"]/tr/td/text()')"
   ]
  },
  {
   "cell_type": "code",
   "execution_count": 104,
   "metadata": {},
   "outputs": [
    {
     "data": {
      "text/plain": [
       "['ALAKALI',\n",
       " '230',\n",
       " '0',\n",
       " '230',\n",
       " 'ÇEKİRDEKSİZ KURU ÜZÜM',\n",
       " '0,000',\n",
       " 'Çek.siz Kuru Üzüm (Eski Mahsul)',\n",
       " '0,000',\n",
       " 'Çek.siz Kuru Üzüm Bandırmasız',\n",
       " '0,000',\n",
       " 'Çek.siz Kuru Üzüm Bandırmasız (Eski Mahsül)',\n",
       " '0,000',\n",
       " 'Çek.siz Kuru Üzüm Bandırmasız (-)',\n",
       " '0,000',\n",
       " 'Çek.siz Kuru Üzüm 7 (+) (Jumbo)',\n",
       " '0,000',\n",
       " 'Çek.siz Kuru Üzüm 7 (+) (Std.)',\n",
       " '0,000',\n",
       " 'Çek.siz Kuru Üzüm 7 (+) (Med.)',\n",
       " '0,000',\n",
       " 'Çek.siz Kuru Üzüm 7 (+) (Small)',\n",
       " '0,000',\n",
       " 'Çek.siz Kuru Üzüm 7 (Std.) (Jumbo)',\n",
       " '0,000',\n",
       " 'Çek.siz Kuru Üzüm 7 (Std.) (Std.)',\n",
       " '0,000',\n",
       " 'Çek.siz Kuru Üzüm 7 (Std.) (Med.)',\n",
       " '0,000',\n",
       " 'Çek.siz Kuru Üzüm 7 (Std.) (Small)',\n",
       " '0,000',\n",
       " 'Çek.siz Kuru Üzüm 7 (-) (Jumbo)',\n",
       " '0,000',\n",
       " 'Çek.siz Kuru Üzüm 7 (-) (Std.)',\n",
       " '0,000',\n",
       " 'Çek.siz Kuru Üzüm 7 (-) (Med.)',\n",
       " '0,000',\n",
       " 'Çek.siz Kuru Üzüm 7 (-) (Small)',\n",
       " '0,000',\n",
       " 'Çek.siz Kuru Üzüm 8 (+) (Jumbo)',\n",
       " '0,000',\n",
       " 'Çek.siz Kuru Üzüm 8 (+) (Std.)',\n",
       " '0,000',\n",
       " 'Çek.siz Kuru Üzüm 8 (+) (Med.)',\n",
       " '0,000',\n",
       " 'Çek.siz Kuru Üzüm 8 (+) (Small)',\n",
       " '0,000',\n",
       " 'Çek.siz Kuru Üzüm 8 (Std.) (Jumbo)',\n",
       " '0,000',\n",
       " 'Çek.siz Kuru Üzüm 8 (Std.) (Std.)',\n",
       " '9,900',\n",
       " 'Çek.siz Kuru Üzüm 8 (Std.) (Med.)',\n",
       " '0,000',\n",
       " 'Çek.siz Kuru Üzüm 8 (Std.) (Small)',\n",
       " '0,000',\n",
       " 'Çek.siz Kuru Üzüm 8 (-) (Jumbo)',\n",
       " '0,000',\n",
       " 'Çek.siz Kuru Üzüm 8 (-) (Std.)',\n",
       " '0,000',\n",
       " 'Çek.siz Kuru Üzüm 8 (-) (Med.)',\n",
       " '0,000',\n",
       " 'Çek.siz Kuru Üzüm 8 (-) (Small)',\n",
       " '0,000',\n",
       " 'Çek.siz Kuru Üzüm 9 (+) (Jumbo)',\n",
       " '0,000',\n",
       " 'Çek.siz Kuru Üzüm 9 (+) (Std.)',\n",
       " '0,000',\n",
       " 'Çek.siz Kuru Üzüm 9 (+) (Med.)',\n",
       " '0,000',\n",
       " 'Çek.siz Kuru Üzüm 9 (+) (Small)',\n",
       " '0,000',\n",
       " 'Çek.siz Kuru Üzüm 9 (Std.) (Jumbo)',\n",
       " '0,000',\n",
       " 'Çek.siz Kuru Üzüm 9 (Std.) (Std.)',\n",
       " '10,000',\n",
       " 'Çek.siz Kuru Üzüm 9 (Std.) (Med.)',\n",
       " '0,000',\n",
       " 'Çek.siz Kuru Üzüm 9 (Std.) (Small)',\n",
       " '0,000',\n",
       " 'Çek.siz Kuru Üzüm 9 (-) (Jumbo)',\n",
       " '0,000',\n",
       " 'Çek.siz Kuru Üzüm 9 (-) (Std.)',\n",
       " '9,950',\n",
       " 'Çek.siz Kuru Üzüm 9 (-) (Med.)',\n",
       " '0,000',\n",
       " 'Çek.siz Kuru Üzüm 9 (-) (Small)',\n",
       " '0,000',\n",
       " 'Çek.siz Kuru Üzüm 10 (+) (Jumbo)',\n",
       " '0,000',\n",
       " 'Çek.siz Kuru Üzüm 10 (+) (Std.)',\n",
       " '0,000',\n",
       " 'Çek.siz Kuru Üzüm 10 (+) (Med.)',\n",
       " '0,000',\n",
       " 'Çek.siz Kuru Üzüm 10 (+) (Small)',\n",
       " '0,000',\n",
       " 'Çek.siz Kuru Üzüm 10 (Std.) (Jumbo)',\n",
       " '0,000',\n",
       " 'Çek.siz Kuru Üzüm 10 (Std.) (Std.)',\n",
       " '0,000',\n",
       " 'Çek.siz Kuru Üzüm 10 (Std.) (Med.)',\n",
       " '0,000',\n",
       " 'Çek.siz Kuru Üzüm 10 (Std.) (Small)',\n",
       " '0,000',\n",
       " 'Çek.siz Kuru Üzüm 10 (-) (Jumbo)',\n",
       " '0,000',\n",
       " 'Çek.siz Kuru Üzüm 10 (-) (Std.)',\n",
       " '0,000',\n",
       " 'Çek.siz Kuru Üzüm 10 (-) (Med.)',\n",
       " '0,000',\n",
       " 'Çek.siz Kuru Üzüm 10 (-) (Small)',\n",
       " '0,000',\n",
       " 'Çek.siz Kuru Üzüm 11 (+) (Jumbo)',\n",
       " '0,000',\n",
       " 'Çek.siz Kuru Üzüm 11 (+) (Std.)',\n",
       " '0,000',\n",
       " 'Çek.siz Kuru Üzüm 11 (+) (Med.)',\n",
       " '0,000',\n",
       " 'Çek.siz Kuru Üzüm 11 (+) (Small)',\n",
       " '0,000',\n",
       " 'Çek.siz Kuru Üzüm 11 (Std.) (Jumbo)',\n",
       " '0,000',\n",
       " 'Çek.siz Kuru Üzüm 11 (Std.) (Std.)',\n",
       " '0,000',\n",
       " 'Çek.siz Kuru Üzüm 11 (Std.) (Med.)',\n",
       " '0,000',\n",
       " 'Çek.siz Kuru Üzüm 11 (Std.) (Small)',\n",
       " '0,000',\n",
       " 'Çek.siz Kuru Üzüm 11 (-) (Jumbo)',\n",
       " '0,000',\n",
       " 'Çek.siz Kuru Üzüm 11 (-) (Std.)',\n",
       " '0,000',\n",
       " 'Çek.siz Kuru Üzüm 11 (-) (Med.)',\n",
       " '0,000',\n",
       " 'Çek.siz Kuru Üzüm 11 (-) (Small)',\n",
       " '0,000',\n",
       " 'Çek.siz Kuru Üzüm 9 (Std.) (Std.)',\n",
       " 'MANİSA',\n",
       " '60',\n",
       " '10,000',\n",
       " '4 HAFTA',\n",
       " 'Çek.siz Kuru Üzüm 9 (Std.) (Std.)',\n",
       " 'MANİSA',\n",
       " '40',\n",
       " '10,000',\n",
       " '4 HAFTA',\n",
       " 'Çek.siz Kuru Üzüm 8 (Std.) (Std.)',\n",
       " 'SARIGÖL',\n",
       " '25',\n",
       " '9,900',\n",
       " '6 TEDİYE',\n",
       " 'Çek.siz Kuru Üzüm 8 (Std.) (Std.)',\n",
       " 'ALAŞEHİR',\n",
       " '25',\n",
       " '9,900',\n",
       " '4 HAFTA',\n",
       " 'Çek.siz Kuru Üzüm 9 (-) (Std.)',\n",
       " 'MANİSA',\n",
       " '80',\n",
       " '9,950',\n",
       " '5 TEDİYE',\n",
       " 'TOPLAMTüccar',\n",
       " '230']"
      ]
     },
     "execution_count": 104,
     "metadata": {},
     "output_type": "execute_result"
    }
   ],
   "source": [
    "tables"
   ]
  },
  {
   "cell_type": "code",
   "execution_count": 126,
   "metadata": {},
   "outputs": [],
   "source": [
    "volumes_content = doc.xpath('//table[@class=\"table\"]')[0].xpath('./tr/td/text()')\n",
    "volumes = volumes_content[1:3]\n",
    "#volumes = volumes.append('NA')\n",
    "volumes.append('')\n"
   ]
  },
  {
   "cell_type": "code",
   "execution_count": 127,
   "metadata": {},
   "outputs": [
    {
     "data": {
      "text/plain": [
       "['230', '0', '']"
      ]
     },
     "execution_count": 127,
     "metadata": {},
     "output_type": "execute_result"
    }
   ],
   "source": [
    "volumes"
   ]
  },
  {
   "cell_type": "code",
   "execution_count": 107,
   "metadata": {},
   "outputs": [
    {
     "data": {
      "text/plain": [
       "['ALAKALI', '230', '0', '230']"
      ]
     },
     "execution_count": 107,
     "metadata": {},
     "output_type": "execute_result"
    }
   ],
   "source": [
    "doc.xpath('//table[@class=\"table\"]')[0].xpath('./tr/td/text()')"
   ]
  },
  {
   "cell_type": "code",
   "execution_count": 108,
   "metadata": {},
   "outputs": [],
   "source": [
    "table = doc.xpath('//table[@class=\"table\"]')[1]"
   ]
  },
  {
   "cell_type": "code",
   "execution_count": 109,
   "metadata": {},
   "outputs": [
    {
     "data": {
      "text/plain": [
       "['ÇEKİRDEKSİZ KURU ÜZÜM',\n",
       " '0,000',\n",
       " 'Çek.siz Kuru Üzüm (Eski Mahsul)',\n",
       " '0,000',\n",
       " 'Çek.siz Kuru Üzüm Bandırmasız',\n",
       " '0,000',\n",
       " 'Çek.siz Kuru Üzüm Bandırmasız (Eski Mahsül)',\n",
       " '0,000',\n",
       " 'Çek.siz Kuru Üzüm Bandırmasız (-)',\n",
       " '0,000',\n",
       " 'Çek.siz Kuru Üzüm 7 (+) (Jumbo)',\n",
       " '0,000',\n",
       " 'Çek.siz Kuru Üzüm 7 (+) (Std.)',\n",
       " '0,000',\n",
       " 'Çek.siz Kuru Üzüm 7 (+) (Med.)',\n",
       " '0,000',\n",
       " 'Çek.siz Kuru Üzüm 7 (+) (Small)',\n",
       " '0,000',\n",
       " 'Çek.siz Kuru Üzüm 7 (Std.) (Jumbo)',\n",
       " '0,000',\n",
       " 'Çek.siz Kuru Üzüm 7 (Std.) (Std.)',\n",
       " '0,000',\n",
       " 'Çek.siz Kuru Üzüm 7 (Std.) (Med.)',\n",
       " '0,000',\n",
       " 'Çek.siz Kuru Üzüm 7 (Std.) (Small)',\n",
       " '0,000',\n",
       " 'Çek.siz Kuru Üzüm 7 (-) (Jumbo)',\n",
       " '0,000',\n",
       " 'Çek.siz Kuru Üzüm 7 (-) (Std.)',\n",
       " '0,000',\n",
       " 'Çek.siz Kuru Üzüm 7 (-) (Med.)',\n",
       " '0,000',\n",
       " 'Çek.siz Kuru Üzüm 7 (-) (Small)',\n",
       " '0,000',\n",
       " 'Çek.siz Kuru Üzüm 8 (+) (Jumbo)',\n",
       " '0,000',\n",
       " 'Çek.siz Kuru Üzüm 8 (+) (Std.)',\n",
       " '0,000',\n",
       " 'Çek.siz Kuru Üzüm 8 (+) (Med.)',\n",
       " '0,000',\n",
       " 'Çek.siz Kuru Üzüm 8 (+) (Small)',\n",
       " '0,000',\n",
       " 'Çek.siz Kuru Üzüm 8 (Std.) (Jumbo)',\n",
       " '0,000',\n",
       " 'Çek.siz Kuru Üzüm 8 (Std.) (Std.)',\n",
       " '9,900',\n",
       " 'Çek.siz Kuru Üzüm 8 (Std.) (Med.)',\n",
       " '0,000',\n",
       " 'Çek.siz Kuru Üzüm 8 (Std.) (Small)',\n",
       " '0,000',\n",
       " 'Çek.siz Kuru Üzüm 8 (-) (Jumbo)',\n",
       " '0,000',\n",
       " 'Çek.siz Kuru Üzüm 8 (-) (Std.)',\n",
       " '0,000',\n",
       " 'Çek.siz Kuru Üzüm 8 (-) (Med.)',\n",
       " '0,000',\n",
       " 'Çek.siz Kuru Üzüm 8 (-) (Small)',\n",
       " '0,000',\n",
       " 'Çek.siz Kuru Üzüm 9 (+) (Jumbo)',\n",
       " '0,000',\n",
       " 'Çek.siz Kuru Üzüm 9 (+) (Std.)',\n",
       " '0,000',\n",
       " 'Çek.siz Kuru Üzüm 9 (+) (Med.)',\n",
       " '0,000',\n",
       " 'Çek.siz Kuru Üzüm 9 (+) (Small)',\n",
       " '0,000',\n",
       " 'Çek.siz Kuru Üzüm 9 (Std.) (Jumbo)',\n",
       " '0,000',\n",
       " 'Çek.siz Kuru Üzüm 9 (Std.) (Std.)',\n",
       " '10,000',\n",
       " 'Çek.siz Kuru Üzüm 9 (Std.) (Med.)',\n",
       " '0,000',\n",
       " 'Çek.siz Kuru Üzüm 9 (Std.) (Small)',\n",
       " '0,000',\n",
       " 'Çek.siz Kuru Üzüm 9 (-) (Jumbo)',\n",
       " '0,000',\n",
       " 'Çek.siz Kuru Üzüm 9 (-) (Std.)',\n",
       " '9,950',\n",
       " 'Çek.siz Kuru Üzüm 9 (-) (Med.)',\n",
       " '0,000',\n",
       " 'Çek.siz Kuru Üzüm 9 (-) (Small)',\n",
       " '0,000',\n",
       " 'Çek.siz Kuru Üzüm 10 (+) (Jumbo)',\n",
       " '0,000',\n",
       " 'Çek.siz Kuru Üzüm 10 (+) (Std.)',\n",
       " '0,000',\n",
       " 'Çek.siz Kuru Üzüm 10 (+) (Med.)',\n",
       " '0,000',\n",
       " 'Çek.siz Kuru Üzüm 10 (+) (Small)',\n",
       " '0,000',\n",
       " 'Çek.siz Kuru Üzüm 10 (Std.) (Jumbo)',\n",
       " '0,000',\n",
       " 'Çek.siz Kuru Üzüm 10 (Std.) (Std.)',\n",
       " '0,000',\n",
       " 'Çek.siz Kuru Üzüm 10 (Std.) (Med.)',\n",
       " '0,000',\n",
       " 'Çek.siz Kuru Üzüm 10 (Std.) (Small)',\n",
       " '0,000',\n",
       " 'Çek.siz Kuru Üzüm 10 (-) (Jumbo)',\n",
       " '0,000',\n",
       " 'Çek.siz Kuru Üzüm 10 (-) (Std.)',\n",
       " '0,000',\n",
       " 'Çek.siz Kuru Üzüm 10 (-) (Med.)',\n",
       " '0,000',\n",
       " 'Çek.siz Kuru Üzüm 10 (-) (Small)',\n",
       " '0,000',\n",
       " 'Çek.siz Kuru Üzüm 11 (+) (Jumbo)',\n",
       " '0,000',\n",
       " 'Çek.siz Kuru Üzüm 11 (+) (Std.)',\n",
       " '0,000',\n",
       " 'Çek.siz Kuru Üzüm 11 (+) (Med.)',\n",
       " '0,000',\n",
       " 'Çek.siz Kuru Üzüm 11 (+) (Small)',\n",
       " '0,000',\n",
       " 'Çek.siz Kuru Üzüm 11 (Std.) (Jumbo)',\n",
       " '0,000',\n",
       " 'Çek.siz Kuru Üzüm 11 (Std.) (Std.)',\n",
       " '0,000',\n",
       " 'Çek.siz Kuru Üzüm 11 (Std.) (Med.)',\n",
       " '0,000',\n",
       " 'Çek.siz Kuru Üzüm 11 (Std.) (Small)',\n",
       " '0,000',\n",
       " 'Çek.siz Kuru Üzüm 11 (-) (Jumbo)',\n",
       " '0,000',\n",
       " 'Çek.siz Kuru Üzüm 11 (-) (Std.)',\n",
       " '0,000',\n",
       " 'Çek.siz Kuru Üzüm 11 (-) (Med.)',\n",
       " '0,000',\n",
       " 'Çek.siz Kuru Üzüm 11 (-) (Small)',\n",
       " '0,000']"
      ]
     },
     "execution_count": 109,
     "metadata": {},
     "output_type": "execute_result"
    }
   ],
   "source": [
    "table_content = table.xpath('./tr/td/text()')\n",
    "table_content"
   ]
  },
  {
   "cell_type": "code",
   "execution_count": 110,
   "metadata": {},
   "outputs": [],
   "source": [
    "type = table_content[::2]\n",
    "price = table_content[1::2]\n",
    "d = {'type': type, 'price': price}"
   ]
  },
  {
   "cell_type": "code",
   "execution_count": 111,
   "metadata": {},
   "outputs": [
    {
     "data": {
      "text/html": [
       "<div>\n",
       "<style scoped>\n",
       "    .dataframe tbody tr th:only-of-type {\n",
       "        vertical-align: middle;\n",
       "    }\n",
       "\n",
       "    .dataframe tbody tr th {\n",
       "        vertical-align: top;\n",
       "    }\n",
       "\n",
       "    .dataframe thead th {\n",
       "        text-align: right;\n",
       "    }\n",
       "</style>\n",
       "<table border=\"1\" class=\"dataframe\">\n",
       "  <thead>\n",
       "    <tr style=\"text-align: right;\">\n",
       "      <th></th>\n",
       "      <th>type</th>\n",
       "      <th>price</th>\n",
       "    </tr>\n",
       "  </thead>\n",
       "  <tbody>\n",
       "    <tr>\n",
       "      <th>0</th>\n",
       "      <td>ÇEKİRDEKSİZ KURU ÜZÜM</td>\n",
       "      <td>0,000</td>\n",
       "    </tr>\n",
       "    <tr>\n",
       "      <th>1</th>\n",
       "      <td>Çek.siz Kuru Üzüm (Eski Mahsul)</td>\n",
       "      <td>0,000</td>\n",
       "    </tr>\n",
       "    <tr>\n",
       "      <th>2</th>\n",
       "      <td>Çek.siz Kuru Üzüm Bandırmasız</td>\n",
       "      <td>0,000</td>\n",
       "    </tr>\n",
       "    <tr>\n",
       "      <th>3</th>\n",
       "      <td>Çek.siz Kuru Üzüm Bandırmasız (Eski Mahsül)</td>\n",
       "      <td>0,000</td>\n",
       "    </tr>\n",
       "    <tr>\n",
       "      <th>4</th>\n",
       "      <td>Çek.siz Kuru Üzüm Bandırmasız (-)</td>\n",
       "      <td>0,000</td>\n",
       "    </tr>\n",
       "    <tr>\n",
       "      <th>...</th>\n",
       "      <td>...</td>\n",
       "      <td>...</td>\n",
       "    </tr>\n",
       "    <tr>\n",
       "      <th>60</th>\n",
       "      <td>Çek.siz Kuru Üzüm 11 (Std.) (Small)</td>\n",
       "      <td>0,000</td>\n",
       "    </tr>\n",
       "    <tr>\n",
       "      <th>61</th>\n",
       "      <td>Çek.siz Kuru Üzüm 11 (-) (Jumbo)</td>\n",
       "      <td>0,000</td>\n",
       "    </tr>\n",
       "    <tr>\n",
       "      <th>62</th>\n",
       "      <td>Çek.siz Kuru Üzüm 11 (-) (Std.)</td>\n",
       "      <td>0,000</td>\n",
       "    </tr>\n",
       "    <tr>\n",
       "      <th>63</th>\n",
       "      <td>Çek.siz Kuru Üzüm 11 (-) (Med.)</td>\n",
       "      <td>0,000</td>\n",
       "    </tr>\n",
       "    <tr>\n",
       "      <th>64</th>\n",
       "      <td>Çek.siz Kuru Üzüm 11 (-) (Small)</td>\n",
       "      <td>0,000</td>\n",
       "    </tr>\n",
       "  </tbody>\n",
       "</table>\n",
       "<p>65 rows × 2 columns</p>\n",
       "</div>"
      ],
      "text/plain": [
       "                                           type  price\n",
       "0                         ÇEKİRDEKSİZ KURU ÜZÜM  0,000\n",
       "1               Çek.siz Kuru Üzüm (Eski Mahsul)  0,000\n",
       "2                 Çek.siz Kuru Üzüm Bandırmasız  0,000\n",
       "3   Çek.siz Kuru Üzüm Bandırmasız (Eski Mahsül)  0,000\n",
       "4             Çek.siz Kuru Üzüm Bandırmasız (-)  0,000\n",
       "..                                          ...    ...\n",
       "60          Çek.siz Kuru Üzüm 11 (Std.) (Small)  0,000\n",
       "61             Çek.siz Kuru Üzüm 11 (-) (Jumbo)  0,000\n",
       "62              Çek.siz Kuru Üzüm 11 (-) (Std.)  0,000\n",
       "63              Çek.siz Kuru Üzüm 11 (-) (Med.)  0,000\n",
       "64             Çek.siz Kuru Üzüm 11 (-) (Small)  0,000\n",
       "\n",
       "[65 rows x 2 columns]"
      ]
     },
     "execution_count": 111,
     "metadata": {},
     "output_type": "execute_result"
    }
   ],
   "source": [
    "import pandas as pd\n",
    "df = pd.DataFrame(d)\n",
    "df"
   ]
  },
  {
   "cell_type": "code",
   "execution_count": 112,
   "metadata": {},
   "outputs": [
    {
     "data": {
      "text/html": [
       "<div>\n",
       "<style scoped>\n",
       "    .dataframe tbody tr th:only-of-type {\n",
       "        vertical-align: middle;\n",
       "    }\n",
       "\n",
       "    .dataframe tbody tr th {\n",
       "        vertical-align: top;\n",
       "    }\n",
       "\n",
       "    .dataframe thead th {\n",
       "        text-align: right;\n",
       "    }\n",
       "</style>\n",
       "<table border=\"1\" class=\"dataframe\">\n",
       "  <thead>\n",
       "    <tr style=\"text-align: right;\">\n",
       "      <th></th>\n",
       "      <th>type</th>\n",
       "      <th>price</th>\n",
       "    </tr>\n",
       "  </thead>\n",
       "  <tbody>\n",
       "    <tr>\n",
       "      <th>2</th>\n",
       "      <td>Çek.siz Kuru Üzüm Bandırmasız</td>\n",
       "      <td>0,000</td>\n",
       "    </tr>\n",
       "    <tr>\n",
       "      <th>6</th>\n",
       "      <td>Çek.siz Kuru Üzüm 7 (+) (Std.)</td>\n",
       "      <td>0,000</td>\n",
       "    </tr>\n",
       "    <tr>\n",
       "      <th>10</th>\n",
       "      <td>Çek.siz Kuru Üzüm 7 (Std.) (Std.)</td>\n",
       "      <td>0,000</td>\n",
       "    </tr>\n",
       "    <tr>\n",
       "      <th>14</th>\n",
       "      <td>Çek.siz Kuru Üzüm 7 (-) (Std.)</td>\n",
       "      <td>0,000</td>\n",
       "    </tr>\n",
       "    <tr>\n",
       "      <th>18</th>\n",
       "      <td>Çek.siz Kuru Üzüm 8 (+) (Std.)</td>\n",
       "      <td>0,000</td>\n",
       "    </tr>\n",
       "    <tr>\n",
       "      <th>22</th>\n",
       "      <td>Çek.siz Kuru Üzüm 8 (Std.) (Std.)</td>\n",
       "      <td>9,900</td>\n",
       "    </tr>\n",
       "    <tr>\n",
       "      <th>26</th>\n",
       "      <td>Çek.siz Kuru Üzüm 8 (-) (Std.)</td>\n",
       "      <td>0,000</td>\n",
       "    </tr>\n",
       "    <tr>\n",
       "      <th>30</th>\n",
       "      <td>Çek.siz Kuru Üzüm 9 (+) (Std.)</td>\n",
       "      <td>0,000</td>\n",
       "    </tr>\n",
       "    <tr>\n",
       "      <th>34</th>\n",
       "      <td>Çek.siz Kuru Üzüm 9 (Std.) (Std.)</td>\n",
       "      <td>10,000</td>\n",
       "    </tr>\n",
       "    <tr>\n",
       "      <th>38</th>\n",
       "      <td>Çek.siz Kuru Üzüm 9 (-) (Std.)</td>\n",
       "      <td>9,950</td>\n",
       "    </tr>\n",
       "    <tr>\n",
       "      <th>42</th>\n",
       "      <td>Çek.siz Kuru Üzüm 10 (+) (Std.)</td>\n",
       "      <td>0,000</td>\n",
       "    </tr>\n",
       "    <tr>\n",
       "      <th>46</th>\n",
       "      <td>Çek.siz Kuru Üzüm 10 (Std.) (Std.)</td>\n",
       "      <td>0,000</td>\n",
       "    </tr>\n",
       "    <tr>\n",
       "      <th>50</th>\n",
       "      <td>Çek.siz Kuru Üzüm 10 (-) (Std.)</td>\n",
       "      <td>0,000</td>\n",
       "    </tr>\n",
       "    <tr>\n",
       "      <th>54</th>\n",
       "      <td>Çek.siz Kuru Üzüm 11 (+) (Std.)</td>\n",
       "      <td>0,000</td>\n",
       "    </tr>\n",
       "    <tr>\n",
       "      <th>58</th>\n",
       "      <td>Çek.siz Kuru Üzüm 11 (Std.) (Std.)</td>\n",
       "      <td>0,000</td>\n",
       "    </tr>\n",
       "    <tr>\n",
       "      <th>62</th>\n",
       "      <td>Çek.siz Kuru Üzüm 11 (-) (Std.)</td>\n",
       "      <td>0,000</td>\n",
       "    </tr>\n",
       "  </tbody>\n",
       "</table>\n",
       "</div>"
      ],
      "text/plain": [
       "                                  type   price\n",
       "2        Çek.siz Kuru Üzüm Bandırmasız   0,000\n",
       "6       Çek.siz Kuru Üzüm 7 (+) (Std.)   0,000\n",
       "10   Çek.siz Kuru Üzüm 7 (Std.) (Std.)   0,000\n",
       "14      Çek.siz Kuru Üzüm 7 (-) (Std.)   0,000\n",
       "18      Çek.siz Kuru Üzüm 8 (+) (Std.)   0,000\n",
       "22   Çek.siz Kuru Üzüm 8 (Std.) (Std.)   9,900\n",
       "26      Çek.siz Kuru Üzüm 8 (-) (Std.)   0,000\n",
       "30      Çek.siz Kuru Üzüm 9 (+) (Std.)   0,000\n",
       "34   Çek.siz Kuru Üzüm 9 (Std.) (Std.)  10,000\n",
       "38      Çek.siz Kuru Üzüm 9 (-) (Std.)   9,950\n",
       "42     Çek.siz Kuru Üzüm 10 (+) (Std.)   0,000\n",
       "46  Çek.siz Kuru Üzüm 10 (Std.) (Std.)   0,000\n",
       "50     Çek.siz Kuru Üzüm 10 (-) (Std.)   0,000\n",
       "54     Çek.siz Kuru Üzüm 11 (+) (Std.)   0,000\n",
       "58  Çek.siz Kuru Üzüm 11 (Std.) (Std.)   0,000\n",
       "62     Çek.siz Kuru Üzüm 11 (-) (Std.)   0,000"
      ]
     },
     "execution_count": 112,
     "metadata": {},
     "output_type": "execute_result"
    }
   ],
   "source": [
    "#selects = df[df['type'].str.contains('(+|-|Std.)(Std.)', regex=True)]\n",
    "#selects\n",
    "#df[df['type'].str.contains('\\(+|-|Std.\\)\\(Std.\\)')]\n",
    "#df[df['type'].str.contains('(?:+|-|Std.)(?:Std.')]\n",
    "selects = df[-df['type'].str.contains('Small|Med.|Jumbo')]\n",
    "#selects = df[]\n",
    "selects = selects.iloc[np.r_[2,5:len(selects)],:]\n",
    "selects"
   ]
  },
  {
   "cell_type": "code",
   "execution_count": 113,
   "metadata": {},
   "outputs": [
    {
     "data": {
      "text/plain": [
       "16"
      ]
     },
     "execution_count": 113,
     "metadata": {},
     "output_type": "execute_result"
    }
   ],
   "source": [
    "len(selects)"
   ]
  },
  {
   "cell_type": "code",
   "execution_count": 114,
   "metadata": {},
   "outputs": [
    {
     "data": {
      "text/plain": [
       "'9,950'"
      ]
     },
     "execution_count": 114,
     "metadata": {},
     "output_type": "execute_result"
    }
   ],
   "source": [
    "html = requests.get('https://itb.org.tr/UzumSalonu')\n",
    "doc = lxml.html.fromstring(html.content)\n",
    "doc.xpath('//table[@class=\"table\"]')[1].xpath('./tr/td/text()')[77]"
   ]
  },
  {
   "cell_type": "code",
   "execution_count": null,
   "metadata": {},
   "outputs": [],
   "source": []
  },
  {
   "cell_type": "code",
   "execution_count": 115,
   "metadata": {},
   "outputs": [
    {
     "data": {
      "text/plain": [
       "['USD', '6.8138', '6.8260', 'EURO', '7.5770', '7.5907']"
      ]
     },
     "execution_count": 115,
     "metadata": {},
     "output_type": "execute_result"
    }
   ],
   "source": [
    "rates = doc.xpath('//table[@class=\"table table-dotted\"]/tr/td/text()')\n",
    "rates"
   ]
  },
  {
   "cell_type": "code",
   "execution_count": 116,
   "metadata": {},
   "outputs": [
    {
     "data": {
      "text/plain": [
       "'6.8138'"
      ]
     },
     "execution_count": 116,
     "metadata": {},
     "output_type": "execute_result"
    }
   ],
   "source": [
    "buying = rates[1]\n",
    "selling = rates[2]\n",
    "buying"
   ]
  },
  {
   "cell_type": "code",
   "execution_count": 119,
   "metadata": {},
   "outputs": [
    {
     "data": {
      "text/plain": [
       "['230', '0', 'NA']"
      ]
     },
     "execution_count": 119,
     "metadata": {},
     "output_type": "execute_result"
    }
   ],
   "source": [
    "volumes"
   ]
  },
  {
   "cell_type": "code",
   "execution_count": 131,
   "metadata": {},
   "outputs": [
    {
     "data": {
      "text/plain": [
       "[['230', '0', ''],\n",
       " ['0,000',\n",
       "  '0,000',\n",
       "  '0,000',\n",
       "  '0,000',\n",
       "  '0,000',\n",
       "  '9,900',\n",
       "  '0,000',\n",
       "  '0,000',\n",
       "  '10,000',\n",
       "  '9,950',\n",
       "  '0,000',\n",
       "  '0,000',\n",
       "  '0,000',\n",
       "  '0,000',\n",
       "  '0,000',\n",
       "  '0,000'],\n",
       " ['6.8138', '6.8260']]"
      ]
     },
     "execution_count": 131,
     "metadata": {},
     "output_type": "execute_result"
    }
   ],
   "source": [
    "row = [volumes, list(selects.price), rates[1:3]]\n",
    "row\n",
    "\n",
    "#[flat_list, buying, selling]"
   ]
  },
  {
   "cell_type": "code",
   "execution_count": 132,
   "metadata": {},
   "outputs": [
    {
     "data": {
      "text/plain": [
       "['230',\n",
       " '0',\n",
       " '',\n",
       " '0,000',\n",
       " '0,000',\n",
       " '0,000',\n",
       " '0,000',\n",
       " '0,000',\n",
       " '9,900',\n",
       " '0,000',\n",
       " '0,000',\n",
       " '10,000',\n",
       " '9,950',\n",
       " '0,000',\n",
       " '0,000',\n",
       " '0,000',\n",
       " '0,000',\n",
       " '0,000',\n",
       " '0,000',\n",
       " '6.8138',\n",
       " '6.8260']"
      ]
     },
     "execution_count": 132,
     "metadata": {},
     "output_type": "execute_result"
    }
   ],
   "source": [
    "flat_row = [item for sublist in row for item in sublist]\n",
    "#flat_row.append(rates[1])\n",
    "#flat_row.append(rates[2])\n",
    "flat_row"
   ]
  },
  {
   "cell_type": "code",
   "execution_count": 130,
   "metadata": {},
   "outputs": [
    {
     "data": {
      "text/plain": [
       "21"
      ]
     },
     "execution_count": 130,
     "metadata": {},
     "output_type": "execute_result"
    }
   ],
   "source": [
    "len(flat_row)"
   ]
  },
  {
   "cell_type": "code",
   "execution_count": 17,
   "metadata": {},
   "outputs": [
    {
     "data": {
      "text/plain": [
       "'İzmir Ticaret Borsası / 18.06.2020 / '"
      ]
     },
     "execution_count": 17,
     "metadata": {},
     "output_type": "execute_result"
    }
   ],
   "source": [
    "date = doc.xpath('//h1/text()')[0]\n",
    "date"
   ]
  },
  {
   "cell_type": "code",
   "execution_count": 23,
   "metadata": {},
   "outputs": [
    {
     "data": {
      "text/plain": [
       "'18.06.2020'"
      ]
     },
     "execution_count": 23,
     "metadata": {},
     "output_type": "execute_result"
    }
   ],
   "source": [
    "import re\n",
    "match = re.search(r'(\\d+.\\d+.\\d+)',date)\n",
    "matched_date = match.group(1)\n",
    "matched_date"
   ]
  },
  {
   "cell_type": "code",
   "execution_count": 29,
   "metadata": {},
   "outputs": [
    {
     "data": {
      "text/plain": [
       "'06/18/2020'"
      ]
     },
     "execution_count": 29,
     "metadata": {},
     "output_type": "execute_result"
    }
   ],
   "source": [
    "from datetime import datetime\n",
    "borsasi_date = datetime.strptime(matched_date, \"%d.%m.%Y\").strftime('%m/%d/%Y')\n",
    "borsasi_date"
   ]
  },
  {
   "cell_type": "code",
   "execution_count": 31,
   "metadata": {},
   "outputs": [
    {
     "data": {
      "text/plain": [
       "True"
      ]
     },
     "execution_count": 31,
     "metadata": {},
     "output_type": "execute_result"
    }
   ],
   "source": [
    "borsasi_date == datetime(2020,6,18).strftime('%m/%d/%Y')"
   ]
  },
  {
   "cell_type": "code",
   "execution_count": null,
   "metadata": {},
   "outputs": [],
   "source": []
  }
 ],
 "metadata": {
  "kernelspec": {
   "display_name": "Python 3",
   "language": "python",
   "name": "python3"
  },
  "language_info": {
   "codemirror_mode": {
    "name": "ipython",
    "version": 3
   },
   "file_extension": ".py",
   "mimetype": "text/x-python",
   "name": "python",
   "nbconvert_exporter": "python",
   "pygments_lexer": "ipython3",
   "version": "3.7.7"
  }
 },
 "nbformat": 4,
 "nbformat_minor": 4
}
